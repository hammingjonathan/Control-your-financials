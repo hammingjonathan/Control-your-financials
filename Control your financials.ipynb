{
 "cells": [
  {
   "cell_type": "code",
   "execution_count": 1,
   "metadata": {},
   "outputs": [],
   "source": [
    "import pandas as pd\n",
    "import matplotlib.pyplot as plt\n",
    "import datetime as dt\n",
    "from sklearn import linear_model"
   ]
  },
  {
   "cell_type": "code",
   "execution_count": 2,
   "metadata": {},
   "outputs": [],
   "source": [
    "#There are multiple files that are uploaded. The first file contains all debit/credit transactions \n",
    "#of the bank for a certain period. The second file contains data about equity of yourself located \n",
    "#at different platforms. The third file is very similar to the second file with equity. However, \n",
    "#the timestamp is changed to numbers since regression cannot handle timestamps. \n",
    "\n",
    "financials = pd.read_csv('Debit_Credit_Financials_Example_CSV.csv', sep='|', encoding='latin-1')\n",
    "equity = pd.read_csv('Equity_Example_CSV.csv', sep='|', encoding='latin-1')\n",
    "equity_future_string = pd.read_csv('Equity_Future_Regression_Example_CSV.csv', sep='|', encoding='latin-1')"
   ]
  },
  {
   "cell_type": "markdown",
   "metadata": {},
   "source": [
    "# Income over 2020"
   ]
  },
  {
   "cell_type": "code",
   "execution_count": 5,
   "metadata": {},
   "outputs": [],
   "source": [
    "#The column date has to be converted from string to datetime. Otherwise the string values of date will cause problems\n",
    "#in the visualization of the data (x-ass).\n",
    "\n",
    "financials.Date = pd.to_datetime(financials.Date).dt.date"
   ]
  },
  {
   "cell_type": "code",
   "execution_count": 12,
   "metadata": {},
   "outputs": [],
   "source": [
    "#Creating a stacked barchart can be done in several ways. The chosen approach below works well with pivoting.\n",
    "#By creatin a stacked barchart, you get a clear overview of categorized credit transactions per month.\n",
    "\n",
    "financials_credit = financials[financials.Debit_Credit == 'Credit'].reset_index()\n",
    "financials_credit = financials_credit.groupby([\"Month\", \"Tag\"]).Amount.sum().reset_index()\n",
    "financials_credit = financials_credit.pivot(index='Month', columns='Tag', values='Amount')\n",
    "\n",
    "financials_credit.loc[:,['Tag xxx','Tag xxx', 'Tag xxx', 'Tag xxx']].plot.bar(stacked=True, figsize=(16,8)).set_xticklabels(('Label xxx', 'Label xxx', 'Label xxx'))"
   ]
  },
  {
   "cell_type": "markdown",
   "metadata": {},
   "source": [
    "# Spendings over 2020"
   ]
  },
  {
   "cell_type": "code",
   "execution_count": 14,
   "metadata": {},
   "outputs": [],
   "source": [
    "#Another stacked barchart is created to visualize the categorized debit transactions per month. \n",
    "\n",
    "financials_debit = financials[financials.Debit_Credit == 'Debit'].reset_index()\n",
    "financials_debit = financials_debit.groupby([\"Month\", \"Tag\"]).Amount.sum().reset_index()\n",
    "financials_debit = financials_debit.pivot(index='Month', columns='Tag', values='Amount')\n",
    "\n",
    "financials_debit.loc[:,['Tag xxx','Tag xxx', 'Tag xxx', 'Tag xxx']].plot.bar(stacked=True, figsize=(16,8)).set_xticklabels(('Label xxx', 'Label xxx', 'Label xxx'))"
   ]
  },
  {
   "cell_type": "markdown",
   "metadata": {},
   "source": [
    "# Equity over 2020"
   ]
  },
  {
   "cell_type": "code",
   "execution_count": 13,
   "metadata": {},
   "outputs": [],
   "source": [
    "#Last stacked barchart is created to visualize the total sum of equity per month. \n",
    "\n",
    "equity_pivot = equity.pivot(index='Date', columns='Source', values='Amount')\n",
    "\n",
    "values = equity.Source\n",
    "\n",
    "clrs = ['lightcoral' if x == \"Source xxx\" else 'Source xxx' if x == \"Source xxx\" else 'grey' if x == \"Source xxx\" else 'grey' for x in values]\n",
    "\n",
    "equity_pivot.loc[:,['Source xxx','Source xxx', 'Source xxx', 'Source xxx']].plot.bar(stacked=True, figsize=(16,8), color=clrs)"
   ]
  },
  {
   "cell_type": "markdown",
   "metadata": {},
   "source": [
    "# Future equity over the coming years"
   ]
  },
  {
   "cell_type": "code",
   "execution_count": 17,
   "metadata": {},
   "outputs": [],
   "source": [
    "#In order to predict your future equity, a predictive linear regression model will be built. \n",
    "#With the scatterplot below, the categorized equity per month is visualized. That's step one. \n",
    "\n",
    "equity_future_string_grouped= equity_future_string.groupby([\"Date\"]).Amount.sum().reset_index()\n",
    "\n",
    "X = equity_future_string_grouped['Date']\n",
    "y = equity_future_string_grouped['Amount']\n",
    "\n",
    "plt.figure(figsize=(18,10))\n",
    "plt.scatter(X, y)"
   ]
  },
  {
   "cell_type": "code",
   "execution_count": null,
   "metadata": {},
   "outputs": [],
   "source": [
    "#The final step below creates a graph with linear regression that predicts your future equity. \n",
    "#New labels are used since linear regression cannot handle timestamps. \n",
    "\n",
    "new_labels = ['nov 2019', 'dec 2019', 'jan 2020', 'feb 2020', 'mar 2020', 'apr 2020', 'may 2020', 'jun 2020', 'jul 2020', 'aug 2020', 'sep 2020', \n",
    "              'oct 2020', 'nov 2020', 'dec 2020', 'jan 2021', 'feb 2021', 'mar 2021', 'apr 2021', 'may 2021', 'jun 2021', 'jul 2021', 'aug 2021', 'sep 2021', \n",
    "              'oct 2021', 'nov 2021', 'dec 2021', 'jan 2022', 'feb 2022', 'mar 2022', 'apr 2022', 'may 2022', 'jun 2022', 'jul 2022', 'aug 2022', 'sep 2022', \n",
    "              'oct 2022', 'nov 2022', 'dec 2022', 'jan 2023', 'feb 2023', 'mar 2023', 'apr 2023', 'may 2023', 'jun 2023', 'jul 2023', 'aug 2023', 'sep 2023', \n",
    "              'oct 2023', 'nov 2023', 'dec 2023', 'jan 2024', 'feb 2024', 'mar 2024', 'apr 2024', 'may 2024', 'jun 2024', 'jul 2024', 'aug 2024', 'sep 2024', \n",
    "              'oct 2024', 'nov 2024', 'dec 2024', 'jan 2025', 'feb 2025', 'mar 2025', 'apr 2025', 'may 2025', 'jun 2025', 'jul 2025', 'aug 2025', 'sep 2025', \n",
    "              'oct 2025', 'nov 2025', 'dec 2025']\n",
    "\n",
    "X = X.values.reshape(-1,1)\n",
    "regr = linear_model.LinearRegression()\n",
    "regr.fit(X,y)\n",
    "y_predict = regr.predict(X)\n",
    "\n",
    "plt.figure(figsize=(18,10))\n",
    "ax = plt.subplot()\n",
    "plt.plot(X, y_predict)\n",
    "ax.set_xticks(range(0,74))\n",
    "ax.set_xticklabels(new_labels, rotation=90)\n",
    "X_future = np.array(range(10,75))\n",
    "X_future = X_future.reshape(-1,1)\n",
    "\n",
    "future_predict = regr.predict(X_future)\n",
    "plt.plot(X_future, future_predict)\n",
    "plt.show()"
   ]
  }
 ],
 "metadata": {
  "kernelspec": {
   "display_name": "Python 3",
   "language": "python",
   "name": "python3"
  },
  "language_info": {
   "codemirror_mode": {
    "name": "ipython",
    "version": 3
   },
   "file_extension": ".py",
   "mimetype": "text/x-python",
   "name": "python",
   "nbconvert_exporter": "python",
   "pygments_lexer": "ipython3",
   "version": "3.7.7"
  }
 },
 "nbformat": 4,
 "nbformat_minor": 4
}
